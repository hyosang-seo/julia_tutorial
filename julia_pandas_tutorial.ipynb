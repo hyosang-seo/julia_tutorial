{
 "cells": [
  {
   "cell_type": "code",
   "execution_count": 18,
   "id": "6d768987",
   "metadata": {},
   "outputs": [
    {
     "name": "stderr",
     "output_type": "stream",
     "text": [
      "\u001b[32m\u001b[1m   Resolving\u001b[22m\u001b[39m package versions...\n",
      "\u001b[32m\u001b[1m   Installed\u001b[22m\u001b[39m Combinatorics ───── v1.0.2\n",
      "\u001b[32m\u001b[1m   Installed\u001b[22m\u001b[39m FreqTables ──────── v0.4.5\n",
      "\u001b[32m\u001b[1m   Installed\u001b[22m\u001b[39m Requires ────────── v1.3.0\n",
      "\u001b[32m\u001b[1m   Installed\u001b[22m\u001b[39m NamedArrays ─────── v0.9.6\n",
      "\u001b[32m\u001b[1m   Installed\u001b[22m\u001b[39m CategoricalArrays ─ v0.10.5\n",
      "\u001b[32m\u001b[1m    Updating\u001b[22m\u001b[39m `~/.julia/environments/v1.7/Project.toml`\n",
      " \u001b[90m [da1fdf0e] \u001b[39m\u001b[92m+ FreqTables v0.4.5\u001b[39m\n",
      "\u001b[32m\u001b[1m    Updating\u001b[22m\u001b[39m `~/.julia/environments/v1.7/Manifest.toml`\n",
      " \u001b[90m [324d7699] \u001b[39m\u001b[92m+ CategoricalArrays v0.10.5\u001b[39m\n",
      " \u001b[90m [861a8166] \u001b[39m\u001b[92m+ Combinatorics v1.0.2\u001b[39m\n",
      " \u001b[90m [da1fdf0e] \u001b[39m\u001b[92m+ FreqTables v0.4.5\u001b[39m\n",
      " \u001b[90m [86f7a689] \u001b[39m\u001b[92m+ NamedArrays v0.9.6\u001b[39m\n",
      " \u001b[90m [ae029012] \u001b[39m\u001b[92m+ Requires v1.3.0\u001b[39m\n",
      "\u001b[32m\u001b[1mPrecompiling\u001b[22m\u001b[39m project...\n",
      "\u001b[32m  ✓ \u001b[39m\u001b[90mRequires\u001b[39m\n",
      "\u001b[32m  ✓ \u001b[39m\u001b[90mCombinatorics\u001b[39m\n",
      "\u001b[32m  ✓ \u001b[39m\u001b[90mNamedArrays\u001b[39m\n",
      "\u001b[32m  ✓ \u001b[39m\u001b[90mCategoricalArrays\u001b[39m\n",
      "\u001b[32m  ✓ \u001b[39mFreqTables\n",
      "  5 dependencies successfully precompiled in 2 seconds (42 already precompiled, 1 skipped during auto due to previous errors)\n"
     ]
    }
   ],
   "source": [
    "import Pkg; \n",
    "# Pkg.add(\"DataFrames\")\n",
    "Pkg.add(\"FreqTables\")\n"
   ]
  },
  {
   "cell_type": "code",
   "execution_count": 50,
   "id": "ae11c5b1",
   "metadata": {},
   "outputs": [
    {
     "data": {
      "text/plain": [
       "4×3 Named Matrix{Int64}\n",
       "a ╲ b │  x   y   z\n",
       "──────┼───────────\n",
       "'a'   │  6  14  11\n",
       "'b'   │ 10   9   4\n",
       "'c'   │  8   6   6\n",
       "'d'   │  7   9  10"
      ]
     },
     "execution_count": 50,
     "metadata": {},
     "output_type": "execute_result"
    }
   ],
   "source": [
    "using DataFrames\n",
    "using FreqTables\n",
    "df = DataFrame(a = rand('a':'d',100), b = rand([\"x\",\"y\",\"z\"], 100))\n",
    "# observe that dimensions are sorted if possible\n",
    "\n",
    "# ft = freqtable(df, :a, :b)\n",
    "ft = freqtable(df, :a, :b)"
   ]
  },
  {
   "cell_type": "code",
   "execution_count": 51,
   "id": "c34d54de",
   "metadata": {},
   "outputs": [
    {
     "data": {
      "text/plain": [
       "(6, 4)"
      ]
     },
     "execution_count": 51,
     "metadata": {},
     "output_type": "execute_result"
    }
   ],
   "source": [
    "ft[3,2], ft['b',\"z\"]"
   ]
  },
  {
   "cell_type": "code",
   "execution_count": 54,
   "id": "ba64d7e0-44e8-4460-bcca-535bf9bbd098",
   "metadata": {},
   "outputs": [
    {
     "data": {
      "text/plain": [
       "4×3 Named Matrix{Float64}\n",
       "a ╲ b │        x         y         z\n",
       "──────┼─────────────────────────────\n",
       "'a'   │ 0.193548  0.451613  0.354839\n",
       "'b'   │ 0.434783  0.391304  0.173913\n",
       "'c'   │      0.4       0.3       0.3\n",
       "'d'   │ 0.269231  0.346154  0.384615"
      ]
     },
     "execution_count": 54,
     "metadata": {},
     "output_type": "execute_result"
    }
   ],
   "source": [
    "pr = prop(ft, margins = 1)"
   ]
  },
  {
   "cell_type": "code",
   "execution_count": 58,
   "id": "2ebb86e0-3c63-4275-b76f-350bbdbaf5b8",
   "metadata": {},
   "outputs": [
    {
     "data": {
      "text/plain": [
       "1.0"
      ]
     },
     "execution_count": 58,
     "metadata": {},
     "output_type": "execute_result"
    }
   ],
   "source": [
    "pr[1,:] |>sum"
   ]
  },
  {
   "cell_type": "code",
   "execution_count": 59,
   "id": "0dcc04dc-878e-4a6a-ae77-0be04780c9ea",
   "metadata": {},
   "outputs": [
    {
     "data": {
      "text/plain": [
       "4×3 Named Matrix{Float64}\n",
       "a ╲ b │        x         y         z\n",
       "──────┼─────────────────────────────\n",
       "'a'   │ 0.193548  0.368421  0.354839\n",
       "'b'   │ 0.322581  0.236842  0.129032\n",
       "'c'   │ 0.258065  0.157895  0.193548\n",
       "'d'   │ 0.225806  0.236842  0.322581"
      ]
     },
     "execution_count": 59,
     "metadata": {},
     "output_type": "execute_result"
    }
   ],
   "source": [
    "pc = prop(ft, margins =2)"
   ]
  },
  {
   "cell_type": "code",
   "execution_count": 62,
   "id": "2796540e-6b7b-47b4-8275-7ba1fe688617",
   "metadata": {},
   "outputs": [
    {
     "data": {
      "text/plain": [
       "1.0"
      ]
     },
     "execution_count": 62,
     "metadata": {},
     "output_type": "execute_result"
    }
   ],
   "source": [
    "pc[:,\"x\"] |>sum"
   ]
  },
  {
   "cell_type": "code",
   "execution_count": 64,
   "id": "a83ef267-d604-4673-84aa-f1e51e48ab07",
   "metadata": {},
   "outputs": [
    {
     "data": {
      "text/plain": [
       "4×3 Named Matrix{Float64}\n",
       "a ╲ b │    x     y     z\n",
       "──────┼─────────────────\n",
       "'a'   │ 0.06  0.14  0.11\n",
       "'b'   │  0.1  0.09  0.04\n",
       "'c'   │ 0.08  0.06  0.06\n",
       "'d'   │ 0.07  0.09   0.1"
      ]
     },
     "execution_count": 64,
     "metadata": {},
     "output_type": "execute_result"
    }
   ],
   "source": [
    "p = prop(ft)"
   ]
  },
  {
   "cell_type": "code",
   "execution_count": 68,
   "id": "4684361e-a0ca-40d3-a58c-8ec5b15b95ee",
   "metadata": {},
   "outputs": [
    {
     "data": {
      "text/plain": [
       "1.0000000000000002"
      ]
     },
     "execution_count": 68,
     "metadata": {},
     "output_type": "execute_result"
    }
   ],
   "source": [
    "p |> sum"
   ]
  },
  {
   "cell_type": "code",
   "execution_count": 72,
   "id": "be0616ab-83be-4b8f-8ccd-78a8b3d5906a",
   "metadata": {},
   "outputs": [],
   "source": [
    "using CategoricalArrays"
   ]
  },
  {
   "cell_type": "code",
   "execution_count": 74,
   "id": "3f121002-b3e5-4bba-bf59-8f0364ea2c22",
   "metadata": {},
   "outputs": [
    {
     "data": {
      "text/plain": [
       "10-element CategoricalArray{Int64,1,UInt32}:\n",
       " 3\n",
       " 1\n",
       " 1\n",
       " 3\n",
       " 3\n",
       " 2\n",
       " 1\n",
       " 2\n",
       " 2\n",
       " 1"
      ]
     },
     "execution_count": 74,
     "metadata": {},
     "output_type": "execute_result"
    }
   ],
   "source": [
    "x = categorical(rand(1:3,10))"
   ]
  },
  {
   "cell_type": "code",
   "execution_count": 77,
   "id": "64e4649d-8b88-4956-8fa6-1a7b29983825",
   "metadata": {},
   "outputs": [
    {
     "data": {
      "text/plain": [
       "10-element CategoricalArray{Int64,1,UInt32}:\n",
       " 3\n",
       " 1\n",
       " 1\n",
       " 3\n",
       " 3\n",
       " 2\n",
       " 1\n",
       " 2\n",
       " 2\n",
       " 1"
      ]
     },
     "execution_count": 77,
     "metadata": {},
     "output_type": "execute_result"
    }
   ],
   "source": [
    "levels!(x,[3,1,2,4,7])"
   ]
  },
  {
   "cell_type": "code",
   "execution_count": null,
   "id": "3bafb7f3-2f5f-447e-80af-1d3d15274225",
   "metadata": {},
   "outputs": [],
   "source": []
  }
 ],
 "metadata": {
  "kernelspec": {
   "display_name": "Julia 1.7.0",
   "language": "julia",
   "name": "julia-1.7"
  },
  "language_info": {
   "file_extension": ".jl",
   "mimetype": "application/julia",
   "name": "julia",
   "version": "1.7.0"
  }
 },
 "nbformat": 4,
 "nbformat_minor": 5
}
